{
 "cells": [
  {
   "cell_type": "markdown",
   "metadata": {},
   "source": [
    "1. Dengan menggunakan Python Requests dan BeautifulSoup cobalah untuk scraping 1 halaman website unair news (https://unair.ac.id/news) dan judul berita yang ada hari ini"
   ]
  },
  {
   "cell_type": "code",
   "execution_count": 12,
   "metadata": {},
   "outputs": [
    {
     "name": "stdout",
     "output_type": "stream",
     "text": [
      "\n",
      "\n",
      "\t\t\t\tDelegasi FH Kembali Juarai Lomba Debat Diponegoro Law Fair\t\t\t\n",
      "\n",
      "\n",
      "\n",
      "\t\t\t\tMahasiswa FH UNAIR Sabet Juara III Lomba Paper Internasional\t\t\t\n",
      "\n",
      "\n",
      "\n",
      "\t\t\t\tPakar Hukum Humaniter Internasional UNAIR Sebut Tindakan Israel Merupakan Crime Against Humanity\t\t\t\n",
      "\n",
      "\n",
      "\n",
      "\t\t\t\tAncam Boikot SpaceX, Dosen UNAIR Sebut Israel Tidak Ingin Aksi Genosida Diketahui Dunia Luar\t\t\t\n",
      "\n",
      "\n",
      "\n",
      "\t\t\t\tKunjungan Resmi Wufeng University, Sepakati Berbagai MoU dengan UNAIR\t\t\t\n",
      "\n",
      "\n",
      "\n",
      "\t\t\t\tDr Andriyanto, Alumnus UNAIR yang Dilantik Menjadi Pj Bupati Pasuruan\t\t\t\n",
      "\n",
      "\n",
      "\n",
      "\t\t\t\tTaiwan Higher Education Fair Tawarkan Beragam Beasiswa Kuliah\t\t\t\n",
      "\n"
     ]
    }
   ],
   "source": [
    "import requests\n",
    "from bs4 import BeautifulSoup\n",
    "\n",
    "# Mengirim permintaan ke URL\n",
    "url = \"https://unair.ac.id/category/berita/\"\n",
    "response = requests.get(url)\n",
    "\n",
    "# Periksa apakah permintaan berhasil\n",
    "if response.status_code == 200:\n",
    "    # Parsing halaman web dengan BeautifulSoup\n",
    "    soup = BeautifulSoup(response.text, \"html.parser\")\n",
    "\n",
    "    # Mencari judul berita pada tanggal yang diinginkan (01/11/2023)\n",
    "    desired_date = \"02/11/2023\"  # Format tanggal yang sesuai dengan elemen tanggal di HTML\n",
    "    found = False\n",
    "\n",
    "    for article in soup.find_all(\"article\"):\n",
    "        date_element = article.find(\"span\", class_=\"elementor-post-date\")\n",
    "        if date_element:\n",
    "            date_text = date_element.get_text(strip=True)\n",
    "            if date_text == desired_date:\n",
    "                title_element = article.find(\"h3\", class_=\"elementor-post__title\")\n",
    "                if title_element:\n",
    "                    title = title_element.get_text()\n",
    "                    print(title)\n",
    "                    found = True\n",
    "\n",
    "    if not found:\n",
    "        print(f\"Tidak ada berita pada tanggal {desired_date}.\")\n",
    "\n",
    "else:\n",
    "    print(\"Gagal mengakses halaman web.\")\n"
   ]
  },
  {
   "cell_type": "markdown",
   "metadata": {},
   "source": [
    "2.\tLalu, lakukan crawling unair news dengan mengkombinasikan Python Request, beautifulsoup, dan for loop, untuk mengambil judul berita dari kategori featured news"
   ]
  },
  {
   "cell_type": "code",
   "execution_count": 11,
   "metadata": {},
   "outputs": [
    {
     "name": "stdout",
     "output_type": "stream",
     "text": [
      "Judul berita dari kategori featured news:\n",
      "\n",
      "Dr Andriyanto, Alumnus UNAIR yang Dilantik Menjadi Pj Bupati Pasuruan\n",
      "UNAIR Raih 4,5 Trees Rating pada UI GreenMetric World University Ranking\n",
      "Pakar Politik UNAIR Sebut Pengusungan Gibran Jadi Strategi Jangka Panjang\n",
      "Berkomitmen Tingkatkan Transparansi Informasi, UNAIR Gabung JDIH\n",
      "Komitmen Tingkatkan Kualitas Pendidikan, Rektor UNAIR Kukuhkan Enam Guru Besar\n",
      "Tambah Lagi, UNAIR Kini Miliki 11 Jurnal Ilmiah Terindeks Scopus\n",
      "UNAIR Raih Anugerah Jatim Bangkit Awards Berkat Sukseskan Pemulihan Pandemi\n",
      "Kukuhkan Tujuh Guru Besar, Rektor UNAIR Ajak Akademisi Tingkatkan Daya Kritis\n",
      "Beri Kuliah Tamu di UNAIR, Mahfud MD Tekankan Pentingnya Politik Kebangsaan\n",
      "UNAIR Anugerahi Khofifah Gelar Doktor Honoris Causa\n",
      "UNAIR Luluskan 1.382 Wisudawan, Rektor: Anda Orang-Orang Terpilih\n",
      "Rektor Beri Pesan Gubes untuk Bumikan Ilmu Pengetahuan\n"
     ]
    }
   ],
   "source": [
    "import requests\n",
    "from bs4 import BeautifulSoup\n",
    "\n",
    "url = \"https://unair.ac.id/category/featured/\"\n",
    "response = requests.get(url)\n",
    "\n",
    "if response.status_code == 200:\n",
    "    soup = BeautifulSoup(response.content, \"html.parser\")\n",
    "\n",
    "    news_titles = soup.find_all(\"h3\", class_=\"elementor-post__title\")\n",
    "\n",
    "    print(\"Judul berita dari kategori featured news:\\n\")\n",
    "    for title in news_titles:\n",
    "        print(title.text.strip())\n",
    "else:\n",
    "    print(\"Gagal mengakses halaman web.\")"
   ]
  }
 ],
 "metadata": {
  "kernelspec": {
   "display_name": "Python 3",
   "language": "python",
   "name": "python3"
  },
  "language_info": {
   "codemirror_mode": {
    "name": "ipython",
    "version": 3
   },
   "file_extension": ".py",
   "mimetype": "text/x-python",
   "name": "python",
   "nbconvert_exporter": "python",
   "pygments_lexer": "ipython3",
   "version": "3.10.0"
  }
 },
 "nbformat": 4,
 "nbformat_minor": 2
}
